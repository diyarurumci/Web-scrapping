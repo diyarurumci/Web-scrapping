{
 "cells": [
  {
   "cell_type": "code",
   "execution_count": 1,
   "id": "d1d70d07",
   "metadata": {},
   "outputs": [],
   "source": [
    "from selenium import webdriver\n",
    "import time\n",
    "import pandas as pd\n",
    "from selenium.webdriver.common.by import By\n"
   ]
  },
  {
   "cell_type": "code",
   "execution_count": 172,
   "id": "8821ef39",
   "metadata": {},
   "outputs": [],
   "source": [
    "url = \"https://www.linkedin.com/jobs/search/?currentJobId=3543890517&f_TPR=r604800&geoId=103644278&location=Birle%C5%9Fik%20Devletler&refresh=true\""
   ]
  },
  {
   "cell_type": "code",
   "execution_count": 8,
   "id": "5e4de20e",
   "metadata": {},
   "outputs": [
    {
     "name": "stdout",
     "output_type": "stream",
     "text": [
      "C:\\Users\\diyar\\anaconda3;C:\\Users\\diyar\\anaconda3\\Library\\mingw-w64\\bin;C:\\Users\\diyar\\anaconda3\\Library\\usr\\bin;C:\\Users\\diyar\\anaconda3\\Library\\bin;C:\\Users\\diyar\\anaconda3\\Scripts;C:\\Users\\diyar\\anaconda3\\bin;C:\\Users\\diyar\\anaconda3\\condabin;C:\\Users\\diyar\\anaconda3;C:\\Users\\diyar\\anaconda3\\Library\\mingw-w64\\bin;C:\\Users\\diyar\\anaconda3\\Library\\usr\\bin;C:\\Users\\diyar\\anaconda3\\Library\\bin;C:\\Users\\diyar\\anaconda3\\Scripts;C:\\WINDOWS\\system32;C:\\WINDOWS;C:\\WINDOWS\\System32\\Wbem;C:\\WINDOWS\\System32\\WindowsPowerShell\\v1.0;C:\\WINDOWS\\System32\\OpenSSH;C:\\Program Files\\NVIDIA Corporation\\NVIDIA NvDLISR;C:\\Program Files\\MySQL\\MySQL Shell 8.0\\bin;C:\\Users\\diyar\\AppData\\Local\\Microsoft\\WindowsApps;.\n"
     ]
    }
   ],
   "source": [
    "import os\n",
    "print(os.environ['PATH'])"
   ]
  },
  {
   "cell_type": "code",
   "execution_count": 173,
   "id": "c3302d55",
   "metadata": {},
   "outputs": [
    {
     "name": "stdout",
     "output_type": "stream",
     "text": [
      "1315000\n"
     ]
    }
   ],
   "source": [
    "driver = webdriver.Chrome()\n",
    "\n",
    "driver.get(url);\n",
    "job_count_text = driver.find_element(By.CLASS_NAME, \"results-context-header__job-count\").text\n",
    "job_count_text = job_count_text.replace('.', '')  # Noktaları kaldırma\n",
    "no_of_jobs = int(job_count_text)\n",
    "\n",
    "print(no_of_jobs)"
   ]
  },
  {
   "cell_type": "code",
   "execution_count": 178,
   "id": "f92b83ff",
   "metadata": {},
   "outputs": [],
   "source": [
    "url_list = [\"https://www.linkedin.com/jobs/search/?currentJobId=3623695698&f_E=2&f_SB2=4&f_TPR=r604800&f_WT=1%2C2%2C3&geoId=103644278&location=United%20States&refresh=true&sortBy=R\",\n",
    "            \"https://www.linkedin.com/jobs/search/?currentJobId=3623695698&f_E=2&f_SB2=1&f_TPR=r604800&f_WT=1%2C2%2C3&geoId=103644278&location=United%20States&refresh=true&sortBy=R\",\n",
    "            \"https://www.linkedin.com/jobs/search/?currentJobId=3628240338&f_E=3&f_SB2=3&f_TPR=r604800&f_WT=1%2C2%2C3&geoId=103644278&location=United%20States&refresh=true&sortBy=R\",\n",
    "            \"https://www.linkedin.com/jobs/search/?currentJobId=3629273898&f_E=4&f_SB2=4&f_TPR=r604800&f_WT=1%2C2%2C3&geoId=103644278&location=United%20States&refresh=true&sortBy=R\",\n",
    "            \"https://www.linkedin.com/jobs/search/?currentJobId=3609199729&f_E=4&f_SB2=8&f_TPR=r604800&f_WT=1%2C2%2C3&geoId=103644278&location=United%20States&refresh=true&sortBy=R\",\n",
    "            \"https://www.linkedin.com/jobs/search/?currentJobId=3629279062&f_E=5&f_SB2=4&f_TPR=r604800&f_WT=1%2C2%2C3&geoId=103644278&location=United%20States&refresh=true&sortBy=R\",\n",
    "            \"https://www.linkedin.com/jobs/search/?currentJobId=3550930814&f_E=6&f_SB2=4&f_TPR=r604800&f_WT=1%2C2%2C3&geoId=103644278&location=United%20States&refresh=true&sortBy=R\",\n",
    "            \"https://www.linkedin.com/jobs/search/?currentJobId=3543890517&f_E=1%2C2%2C3%2C4%2C5%2C6&f_TPR=r604800&f_WT=1&geoId=103644278&location=United%20States&refresh=true&sortBy=R\",\n",
    "            \"https://www.linkedin.com/jobs/search/?currentJobId=3645758182&f_E=1%2C2%2C3%2C4%2C5%2C6&f_TPR=r604800&f_WT=2&geoId=103644278&location=United%20States&refresh=true&sortBy=R\",\n",
    "            \"https://www.linkedin.com/jobs/search/?currentJobId=3652752460&f_E=1%2C2%2C3%2C4%2C5%2C6&f_TPR=r604800&f_WT=3&geoId=103644278&location=United%20States&refresh=true&sortBy=R\",\n",
    "            \"https://www.linkedin.com/jobs/search/?currentJobId=3644054430&f_E=1%2C2%2C3%2C4%2C5%2C6&f_PP=102571732&f_TPR=r604800&f_WT=1%2C2%2C3&geoId=103644278&location=United%20States&refresh=true&sortBy=R\",\n",
    "            \"https://www.linkedin.com/jobs/search/?currentJobId=3650625223&f_E=1%2C2%2C3%2C4%2C5%2C6&f_PP=102201911&f_TPR=r604800&f_WT=1%2C2%2C3&geoId=103644278&location=United%20States&refresh=true&sortBy=R\",\n",
    "            \"https://www.linkedin.com/jobs/search/?currentJobId=3650298181&f_E=1%2C2%2C3%2C4%2C5%2C6&f_PP=100855814&f_TPR=r604800&f_WT=1%2C2%2C3&geoId=103644278&location=United%20States&refresh=true&sortBy=R\",\n",
    "            \"https://www.linkedin.com/jobs/search/?currentJobId=3645682037&f_E=1%2C2%2C3%2C4%2C5%2C6&f_PP=104194190&f_TPR=r604800&f_WT=1%2C2%2C3&geoId=103644278&location=United%20States&refresh=true&sortBy=R\",\n",
    "            \"https://www.linkedin.com/jobs/search/?currentJobId=3647025222&f_E=1%2C2%2C3%2C4%2C5%2C6&f_PP=103112676&f_TPR=r604800&f_WT=1%2C2%2C3&geoId=103644278&location=United%20States&refresh=true&sortBy=R\",\n",
    "            \"https://www.linkedin.com/jobs/search/?currentJobId=3562409839&f_E=1%2C2%2C3%2C4%2C5%2C6&f_PP=107017799&f_TPR=r604800&f_WT=1%2C2%2C3&geoId=103644278&location=United%20States&refresh=true&sortBy=R\",\n",
    "            \"https://www.linkedin.com/jobs/search/?currentJobId=3650182163&f_E=1%2C2%2C3%2C4%2C5%2C6&f_PP=106689237&f_TPR=r604800&f_WT=1%2C2%2C3&geoId=103644278&location=United%20States&refresh=true&sortBy=R\",\n",
    "            \"https://www.linkedin.com/jobs/search/?currentJobId=3641520192&f_E=1%2C2%2C3%2C4%2C5%2C6&f_PP=102448103&f_TPR=r604800&f_WT=1%2C2%2C3&geoId=103644278&location=United%20States&refresh=true&sortBy=R\",\n",
    "            \"https://www.linkedin.com/jobs/search/?currentJobId=3648874215&f_E=1%2C2%2C3%2C4%2C5%2C6&f_PP=103743442&f_TPR=r604800&f_WT=1%2C2%2C3&geoId=103644278&location=United%20States&refresh=true&sortBy=R\",\n",
    "            \"https://www.linkedin.com/jobs/search/?currentJobId=3651413584&f_E=1%2C2%2C3%2C4%2C5%2C6&f_PP=100219842&f_TPR=r604800&geoId=103644278&location=United%20States&refresh=true&sortBy=R\",\n",
    "            \"https://www.linkedin.com/jobs/search/?currentJobId=3644056410&f_E=1%2C2%2C3%2C4%2C5%2C6&f_PP=106224388&f_TPR=r604800&geoId=103644278&location=United%20States&refresh=true&sortBy=R\",\n",
    "            \"https://www.linkedin.com/jobs/search/?currentJobId=3645141491&f_E=1%2C2%2C3%2C4%2C5%2C6&f_PP=102396835&f_TPR=r604800&geoId=103644278&location=United%20States&refresh=true&sortBy=R\",\n",
    "            \"https://www.linkedin.com/jobs/search/?currentJobId=3562409839&f_E=1%2C2%2C3%2C4%2C5%2C6&f_I=147%2C1&f_TPR=r604800&geoId=103644278&location=United%20States&refresh=true&sortBy=R\",\n",
    "            \"https://www.linkedin.com/jobs/search/?currentJobId=3652854214&f_E=1%2C2%2C3%2C4%2C5%2C6&f_I=104%2C116&f_TPR=r604800&geoId=103644278&location=United%20States&refresh=true&sortBy=R\",\n",
    "            \"https://www.linkedin.com/jobs/search/?currentJobId=3651864505&f_E=1%2C2%2C3%2C4%2C5%2C6&f_I=4%2C96&f_TPR=r604800&geoId=103644278&location=United%20States&refresh=true&sortBy=R\",\n",
    "            \"https://www.linkedin.com/jobs/search/?currentJobId=3543890517&f_E=1%2C2%2C3%2C4%2C5%2C6&f_I=42%2C31&f_TPR=r604800&geoId=103644278&location=United%20States&refresh=true&sortBy=R\",\n",
    "            \"https://www.linkedin.com/jobs/search/?currentJobId=3543890517&f_E=1%2C2%2C3%2C4%2C5%2C6&f_I=43%2C11&f_TPR=r604800&geoId=103644278&location=United%20States&refresh=true&sortBy=R\",\n",
    "            \"https://www.linkedin.com/jobs/search/?currentJobId=3652153102&f_E=1%2C2%2C3%2C4%2C5%2C6&f_I=14%2C17&f_TPR=r604800&geoId=103644278&location=United%20States&refresh=true&sortBy=R\",\n",
    "            \"https://www.linkedin.com/jobs/search/?currentJobId=3543890517&f_E=1%2C2%2C3%2C4%2C5%2C6&f_I=43%2C11&f_TPR=r604800&geoId=103644278&location=United%20States&refresh=true&sortBy=R\",\n",
    "            \"https://www.linkedin.com/jobs/search/?currentJobId=3543890517&f_E=1%2C2%2C3%2C4%2C5%2C6&f_I=43%2C11%2C27&f_TPR=r604800&geoId=103644278&location=United%20States&refresh=true&sortBy=R\",\n",
    "            \"https://www.linkedin.com/jobs/search/?currentJobId=3649884163&f_E=1&f_TPR=r2592000&geoId=103644278&location=United%20States&refresh=true\",\n",
    "            \"https://www.linkedin.com/jobs/search/?currentJobId=3620837790&f_E=2&f_TPR=r2592000&geoId=103644278&location=United%20States&refresh=true\",\n",
    "            \"https://www.linkedin.com/jobs/search/?currentJobId=3633068925&f_E=3&f_TPR=r2592000&geoId=103644278&location=United%20States&refresh=true\",\n",
    "            \"https://www.linkedin.com/jobs/search/?currentJobId=3637725136&f_E=4&f_TPR=r2592000&geoId=103644278&location=United%20States&refresh=true\",\n",
    "            \"https://www.linkedin.com/jobs/search/?currentJobId=3458725802&f_E=5&f_TPR=r2592000&geoId=103644278&location=United%20States&refresh=true\",\n",
    "            \"https://www.linkedin.com/jobs/search/?currentJobId=3624965558&f_E=6&f_TPR=r2592000&geoId=103644278&location=United%20States&refresh=true\",\n",
    "            \"https://www.linkedin.com/jobs/search/?currentJobId=3637725136&f_TPR=r2592000&f_WT=1&geoId=103644278&location=United%20States&refresh=true\",\n",
    "            \"https://www.linkedin.com/jobs/search/?currentJobId=2598590253&f_TPR=r2592000&f_WT=2&geoId=103644278&location=United%20States&refresh=true\",\n",
    "            \"https://www.linkedin.com/jobs/search/?currentJobId=3620837790&f_TPR=r2592000&f_WT=3&geoId=103644278&location=United%20States&refresh=true\",\n",
    "            \"https://www.linkedin.com/jobs/search/?currentJobId=3620837790&f_JT=F&f_TPR=r2592000&geoId=103644278&location=United%20States&refresh=true&sortBy=R\",\n",
    "            \"https://www.linkedin.com/jobs/search/?currentJobId=2598590253&f_JT=P&f_TPR=r2592000&geoId=103644278&location=United%20States&refresh=true&sortBy=R\",\n",
    "            \"https://www.linkedin.com/jobs/search/?currentJobId=3620837790&f_JT=F%2CP&f_TPR=r2592000&geoId=103644278&location=United%20States&refresh=true&sortBy=R\",\n",
    "            \"https://www.linkedin.com/jobs/search/?currentJobId=2644299253&f_JT=C%2CT%2CV%2CI%2CO&f_TPR=r2592000&geoId=103644278&location=United%20States&refresh=true&sortBy=R\",\n",
    "            \"https://www.linkedin.com/jobs/search/?currentJobId=3620837790&f_JT=F%2CP%2CC%2CT%2CV%2CI%2CO&f_TPR=r2592000&geoId=103644278&location=United%20States&refresh=true&sortBy=R\",\n",
    "            \"https://www.linkedin.com/jobs/search/?currentJobId=3620837790&f_E=2%2C4&f_JT=F%2CP%2CC%2CT%2CV%2CI%2CO&f_TPR=r2592000&geoId=103644278&location=United%20States&refresh=true&sortBy=R\",\n",
    "            \"https://www.linkedin.com/jobs/search/?currentJobId=3630161069&f_E=1%2C2%2C3%2C4%2C5%2C6&f_JT=F%2CP%2CC%2CT%2CV%2CI%2CO&f_SB2=6&f_TPR=r2592000&geoId=103644278&location=United%20States&refresh=true&sortBy=R\",\n",
    "            \"https://www.linkedin.com/jobs/search/?currentJobId=3630161069&f_E=1%2C2%2C3%2C4%2C5%2C6&f_JT=F%2CP%2CC%2CT%2CV%2CI%2CO&f_SB2=9&f_TPR=r2592000&geoId=103644278&location=United%20States&refresh=true&sortBy=R\",\n",
    "            \"https://www.linkedin.com/jobs/search/?currentJobId=3603386913&f_E=1%2C2%2C3%2C4%2C5%2C6&f_JT=F%2CP%2CC%2CT%2CV%2CI%2CO&f_SB2=1&f_TPR=r2592000&geoId=103644278&location=United%20States&refresh=true&sortBy=R\",\n",
    "            \"https://www.linkedin.com/jobs/search/?currentJobId=3620837823&f_E=1%2C2%2C3%2C4%2C5%2C6&f_JT=F%2CP%2CC%2CT%2CV%2CI%2CO&f_PP=101510136%2C102123240%2C100222607%2C104383890&f_TPR=r2592000&geoId=103644278&location=United%20States&refresh=true&sortBy=R\",\n",
    "            \"https://www.linkedin.com/jobs/search/?currentJobId=3620837823&f_E=1%2C2%2C3%2C4%2C5%2C6&f_JT=F%2CP%2CC%2CT%2CV%2CI%2CO&f_PP=101510136%2C102123240%2C100222607%2C104383890%2C100384366%2C101608619%2C100106865%2C100219842%2C102543534&f_TPR=r2592000&geoId=103644278&location=United%20States&refresh=true&sortBy=R\",\n",
    "            \"https://www.linkedin.com/jobs/search/?currentJobId=3640347498&f_E=1%2C2%2C3%2C4%2C5%2C6&f_JT=F%2CP%2CC%2CT%2CV%2CI%2CO&f_T=15&f_TPR=r2592000&geoId=103644278&location=United%20States&refresh=true&sortBy=R\",\n",
    "            \"https://www.linkedin.com/jobs/search/?currentJobId=3650806369&f_E=1%2C2%2C3%2C4%2C5%2C6&f_JT=F%2CP%2CC%2CT%2CV%2CI%2CO&f_T=272&f_TPR=r2592000&geoId=103644278&location=United%20States&refresh=true&sortBy=R\",\n",
    "            \"https://www.linkedin.com/jobs/search/?currentJobId=3620840620&f_E=1%2C2%2C3%2C4%2C5%2C6&f_JT=F%2CP%2CC%2CT%2CV%2CI%2CO&f_T=4%2C2358&f_TPR=r2592000&geoId=103644278&location=United%20States&refresh=true&sortBy=R\",\n",
    "            \"https://www.linkedin.com/jobs/search/?currentJobId=3620840620&f_E=1%2C2%2C3%2C4%2C5%2C6&f_JT=F%2CP%2CC%2CT%2CV%2CI%2CO&f_T=30%2C7185%2C77&f_TPR=r2592000&geoId=103644278&location=United%20States&refresh=true&sortBy=R\",\n",
    "            \"https://www.linkedin.com/jobs/search/?currentJobId=3634590581&f_E=1%2C2%2C3%2C4%2C5%2C6&f_I=6%2C4&f_JT=F%2CP%2CC%2CT%2CV%2CI%2CO&f_TPR=r2592000&geoId=103644278&location=United%20States&refresh=true&sortBy=R\",\n",
    "            \"https://www.linkedin.com/jobs/search/?currentJobId=3637089865&f_E=1%2C2%2C3%2C4%2C5%2C6&f_I=1%2C104&f_JT=F%2CP%2CC%2CT%2CV%2CI%2CO&f_TPR=r2592000&geoId=103644278&location=United%20States&refresh=true&sortBy=R\",\n",
    "            \"https://www.linkedin.com/jobs/search/?currentJobId=3633388277&f_E=1%2C2%2C3%2C4%2C5%2C6&f_I=14&f_JT=F%2CP%2CC%2CT%2CV%2CI%2CO&f_TPR=r2592000&geoId=103644278&location=United%20States&refresh=true&sortBy=R\",\n",
    "            \"https://www.linkedin.com/jobs/search/?currentJobId=3633388277&f_E=1%2C2%2C3%2C4%2C5%2C6&f_I=124&f_JT=F%2CP%2CC%2CT%2CV%2CI%2CO&f_TPR=r2592000&geoId=103644278&location=United%20States&refresh=true&sortBy=R\",\n",
    "            \"https://www.linkedin.com/jobs/search/?currentJobId=3633388277&f_E=1%2C2%2C3%2C4%2C5%2C6&f_I=13&f_JT=F%2CP%2CC%2CT%2CV%2CI%2CO&f_TPR=r2592000&geoId=103644278&location=United%20States&refresh=true&sortBy=R\",\n",
    "            \"https://www.linkedin.com/jobs/search/?currentJobId=3620837790&f_E=1%2C2%2C3%2C4%2C5%2C6&f_I=43%2C11&f_JT=F%2CP%2CC%2CT%2CV%2CI%2CO&f_TPR=r2592000&geoId=103644278&location=United%20States&refresh=true&sortBy=R\",\n",
    "            \"https://www.linkedin.com/jobs/search/?currentJobId=3643428052&f_E=1%2C2%2C3%2C4%2C5%2C6&f_I=32&f_JT=F%2CP%2CC%2CT%2CV%2CI%2CO&f_TPR=r2592000&geoId=103644278&location=United%20States&refresh=true&sortBy=R\",\n",
    "            \"https://www.linkedin.com/jobs/search/?currentJobId=3638972485&f_E=1%2C2%2C3%2C4%2C5%2C6&f_I=34&f_JT=F%2CP%2CC%2CT%2CV%2CI%2CO&f_TPR=r2592000&geoId=103644278&location=United%20States&refresh=true&sortBy=R\",\n",
    "            \"https://www.linkedin.com/jobs/search/?currentJobId=3259857624&f_E=1%2C2%2C3%2C4%2C5%2C6&f_I=11%2C23&f_JT=F%2CP%2CC%2CT%2CV%2CI%2CO&f_TPR=r2592000&geoId=103644278&location=United%20States&refresh=true&sortBy=R\",\n",
    "            \"https://www.linkedin.com/jobs/search/?currentJobId=3608179207&f_E=1%2C2%2C3%2C4%2C5%2C6&f_JT=F%2CP%2CC%2CT%2CV%2CI%2CO&geoId=103644278&location=United%20States&refresh=true&sortBy=R\",\n",
    "            \"https://www.linkedin.com/jobs/search/?currentJobId=3608179207&f_E=1%2C2%2C3%2C4%2C5%2C6&f_F=mnfc&f_JT=F%2CP%2CC%2CT%2CV%2CI%2CO&geoId=103644278&location=United%20States&refresh=true&sortBy=R\",\n",
    "            \"https://www.linkedin.com/jobs/search/?currentJobId=3608179207&f_E=1%2C2%2C3%2C4%2C5%2C6&f_F=mnfc%2Cit%2Cmgmt&f_JT=F%2CP%2CC%2CT%2CV%2CI%2CO&geoId=103644278&location=United%20States&refresh=true&sortBy=R\",\n",
    "            \"https://www.linkedin.com/jobs/search/?currentJobId=3620857714&f_E=1%2C2%2C3%2C4%2C5%2C6&f_F=edu%2Cbd&f_JT=F%2CP%2CC%2CT%2CV%2CI%2CO&geoId=103644278&location=United%20States&refresh=true&sortBy=R\",\n",
    "            \"https://www.linkedin.com/jobs/search/?currentJobId=2598590253&f_E=1%2C2%2C3%2C4%2C5%2C6&f_F=hcpr%2Cadm&f_JT=F%2CP%2CC%2CT%2CV%2CI%2CO&geoId=103644278&location=United%20States&refresh=true&sortBy=R\",\n",
    "            \"https://www.linkedin.com/jobs/search/?currentJobId=3608195709&f_E=1%2C2%2C3%2C4%2C5%2C6&f_F=eng&f_JT=F%2CP%2CC%2CT%2CV%2CI%2CO&geoId=103644278&location=United%20States&refresh=true&sortBy=R\",\n",
    "            \"https://www.linkedin.com/jobs/search/?currentJobId=3608195709&f_E=1%2C2%2C3%2C4%2C5%2C6&f_F=eng%2Cit&f_JT=F%2CP%2CC%2CT%2CV%2CI%2CO&geoId=103644278&location=United%20States&refresh=true&sortBy=R\",\n",
    "            \"https://www.linkedin.com/jobs/search/?currentJobId=3620810786&f_E=1%2C2%2C3%2C4%2C5%2C6&f_F=adm%2Cprjm%2Cmrkt%2Csale&f_JT=F%2CP%2CC%2CT%2CV%2CI%2CO&geoId=103644278&location=United%20States&refresh=true&sortBy=R\",\n",
    "            \"https://www.linkedin.com/jobs/search/?currentJobId=3637725136&f_E=1%2C2%2C3%2C4%2C5%2C6&f_JT=F%2CP%2CC%2CT%2CV%2CI%2CO&f_TPR=r86400&geoId=103644278&location=United%20States&refresh=true&sortBy=R\",\n",
    "            \"https://www.linkedin.com/jobs/search/?currentJobId=3640021634&f_E=1%2C2%2C3%2C4%2C5%2C6&f_JT=F%2CP%2CC%2CT%2CV%2CI%2CO&f_T=3114%2C272%2C16996%2C188%2C13490%2C3020%2C1984%2C535&f_TPR=r2592000&geoId=103644278&location=United%20States&refresh=true&sortBy=R\",\n",
    "            \"https://www.linkedin.com/jobs/search/?currentJobId=3652885199&f_E=1%2C2%2C3%2C4%2C5%2C6&f_JT=F%2CP%2CC%2CT%2CV%2CI%2CO&f_TPR=r2592000&geoId=103644278&location=United%20States&refresh=true&sortBy=DD\",\n",
    "            \"https://www.linkedin.com/jobs/search/?currentJobId=3652886081&f_E=1%2C2%2C3%2C4%2C5%2C6&f_F=mnfc&f_JT=F%2CP%2CC%2CT%2CV%2CI%2CO&f_TPR=r2592000&geoId=103644278&location=United%20States&refresh=true&sortBy=DD\",\n",
    "            \"https://www.linkedin.com/jobs/search/?currentJobId=3646271964&f_E=1%2C2%2C3%2C4%2C5%2C6&f_F=hcpr&f_JT=F%2CP%2CC%2CT%2CV%2CI%2CO&f_TPR=r2592000&geoId=103644278&location=United%20States&refresh=true&sortBy=DD\",\n",
    "            \"https://www.linkedin.com/jobs/search/?currentJobId=3650894437&f_E=1%2C2%2C3%2C4%2C5%2C6&f_F=othr&f_JT=F%2CP%2CC%2CT%2CV%2CI%2CO&f_TPR=r2592000&geoId=103644278&location=United%20States&refresh=true&sortBy=DD\",\n",
    "            \"https://www.linkedin.com/jobs/search/?currentJobId=3259859391&f_E=1%2C2%2C3%2C4%2C5%2C6&f_F=othr&f_JT=F%2CP%2CC%2CT%2CV%2CI%2CO&f_TPR=r2592000&geoId=103644278&location=United%20States&refresh=true&sortBy=R\",\n",
    "            \"https://www.linkedin.com/jobs/search/?currentJobId=3259857624&f_E=1%2C2%2C3%2C4%2C5%2C6&f_F=it&f_JT=F%2CP%2CC%2CT%2CV%2CI%2CO&f_TPR=r2592000&geoId=103644278&location=United%20States&refresh=true&sortBy=R\",\n",
    "            \"https://www.linkedin.com/jobs/search/?currentJobId=3652879702&f_E=1%2C2%2C3%2C4%2C5%2C6&f_F=it&f_JT=F%2CP%2CC%2CT%2CV%2CI%2CO&f_TPR=r2592000&geoId=103644278&location=United%20States&refresh=true&sortBy=DD\",\n",
    "            \"https://www.linkedin.com/jobs/search/?currentJobId=3652885199&f_E=1%2C2%2C3%2C4%2C5%2C6&f_F=fin&f_JT=F%2CP%2CC%2CT%2CV%2CI%2CO&f_TPR=r2592000&geoId=103644278&location=United%20States&refresh=true&sortBy=DD\",\n",
    "            \"https://www.linkedin.com/jobs/search/?currentJobId=3652885200&f_E=1%2C2%2C3%2C4%2C5%2C6&f_F=wrt%2Cbd&f_JT=F%2CP%2CC%2CT%2CV%2CI%2CO&f_TPR=r2592000&geoId=103644278&location=United%20States&refresh=true&sortBy=DD\",\n",
    "            \"https://www.linkedin.com/jobs/search/?currentJobId=3620810786&f_E=1%2C2%2C3%2C4%2C5%2C6&f_F=adm%2Cmrkt%2Ceng%2Csale&f_JT=F%2CP%2CC%2CT%2CV%2CI%2CO&f_TPR=r2592000&geoId=103644278&location=United%20States&refresh=true&sortBy=R\",\n",
    "            \"https://www.linkedin.com/jobs/search/?currentJobId=3652775475&f_C=2908367%2C32187%2C10200066%2C3271606%2C741842%2C2043953%2C64799%2C18613&f_E=1%2C2%2C3%2C4%2C5%2C6&f_F=adm%2Cmrkt%2Ceng%2Csale&f_JT=F%2CP%2CC%2CT%2CV%2CI%2CO&f_TPR=r2592000&geoId=103644278&location=United%20States&refresh=true&sortBy=R\"\n",
    "            \"https://www.linkedin.com/jobs/search/?currentJobId=3637725136&f_E=1%2C2%2C3%2C4%2C5%2C6&f_JT=F%2CP%2CC%2CT%2CV%2CI%2CO&f_TPR=r86400&geoId=103644278&location=United%20States&refresh=true&sortBy=R\",\n",
    "            \n",
    "            \n",
    "            \n",
    "           \n",
    "]\n"
   ]
  },
  {
   "cell_type": "code",
   "execution_count": null,
   "id": "01bff905",
   "metadata": {},
   "outputs": [],
   "source": [
    "job_id = []\n",
    "job_title = []\n",
    "company_name = []\n",
    "location = []\n",
    "date = []\n",
    "job_link = []\n",
    "job_type = []\n",
    "\n",
    "for idx, url in enumerate(url_list_dene):\n",
    "    print(\"URL Number {}\".format(idx))\n",
    "    driver = webdriver.Chrome()\n",
    "\n",
    "    driver.get(url)\n",
    "    job_count_text = driver.find_element(By.CLASS_NAME, \"results-context-header__job-count\").text\n",
    "    job_count_text = job_count_text.replace('.', '')  # Noktaları kaldırma\n",
    "    no_of_jobs = int(job_count_text)\n",
    "\n",
    "    print(no_of_jobs)\n",
    "    i = 2\n",
    "    time_limit = 30\n",
    "    start_time = time.time()\n",
    "\n",
    "    while i <= int(no_of_jobs / 25) + 1:\n",
    "        driver.execute_script('window.scrollTo(0,document.body.scrollHeight);')\n",
    "        i = i + 1\n",
    "        elapsed_time = time.time() - start_time\n",
    "        if elapsed_time >= time_limit:\n",
    "            break\n",
    "        try:\n",
    "            more_buttons = driver.find_elements(By.XPATH, \"//button[@aria-label='Daha fazla iş ilanı göster']\")\n",
    "            for button in more_buttons:\n",
    "                button.click()\n",
    "                time.sleep(1)\n",
    "        except:\n",
    "            pass\n",
    "        time.sleep(1)\n",
    "    job_lists = driver.find_element(By.CLASS_NAME, 'jobs-search__results-list')\n",
    "    jobs = job_lists.find_elements(By.TAG_NAME, 'li')\n",
    "\n",
    "    for job in jobs:\n",
    "        job_id0 = job.get_attribute('data-id')\n",
    "        job_id.append(job_id0)\n",
    "\n",
    "        job_title_element = job.find_element(By.CSS_SELECTOR, 'h3')\n",
    "        job_title_text = job_title_element.get_attribute('innerText')\n",
    "\n",
    "        # Paranteze kadar olan metni almak için düzenli ifadeler (regular expressions) kullanıyoruz\n",
    "        match = re.search(r'^(.*?)\\(', job_title_text)\n",
    "        if match:\n",
    "            job_title0 = match.group(1)\n",
    "        else:\n",
    "            job_title0 = job_title_text\n",
    "\n",
    "        job_title.append(job_title0)\n",
    "\n",
    "        company_name0 = job.find_element(By.CSS_SELECTOR, 'h4').get_attribute('innerText')\n",
    "        company_name.append(company_name0)\n",
    "\n",
    "        location0 = job.find_element(By.CSS_SELECTOR, 'div>span').get_attribute('innerText')\n",
    "        location.append(location0)\n",
    "\n",
    "        date0 = job.find_element(By.CSS_SELECTOR, 'div>div>time').get_attribute('datetime')\n",
    "        date.append(date0)\n",
    "\n",
    "        job_link0 = job.find_element(By.CSS_SELECTOR, 'a').get_attribute('href')\n",
    "        job_link.append(job_link0)\n",
    "\n",
    "    driver.quit()\n"
   ]
  },
  {
   "cell_type": "code",
   "execution_count": 179,
   "id": "88900019",
   "metadata": {},
   "outputs": [
    {
     "data": {
      "text/plain": [
       "84"
      ]
     },
     "execution_count": 179,
     "metadata": {},
     "output_type": "execute_result"
    }
   ],
   "source": [
    "len(url_list)"
   ]
  },
  {
   "cell_type": "code",
   "execution_count": 181,
   "id": "2028a36d",
   "metadata": {
    "collapsed": true
   },
   "outputs": [
    {
     "name": "stdout",
     "output_type": "stream",
     "text": [
      "                                                    Role  \\\n",
      "0                                 Social Content Creator   \n",
      "1              Executive Assistant, Business Development   \n",
      "2      Investment Banking Associate, Financial Instit...   \n",
      "3                                        Probation Clerk   \n",
      "4                             REMOTE - Founding Designer   \n",
      "...                                                  ...   \n",
      "30079          Sales Representative ($75,000 - $100,000)   \n",
      "30080          Sales Representative ($75,000 - $100,000)   \n",
      "30081            Alfalfa Customer Development Specialist   \n",
      "30082  Sales Rep (Training Provided; No Experience Ne...   \n",
      "30083  Sales Rep (Training Provided; No Experience Ne...   \n",
      "\n",
      "                                                 Company  \\\n",
      "0                                                 Gopuff   \n",
      "1                                     Warner Music Group   \n",
      "2                                                   BTIG   \n",
      "3      U.S. Probation Office, Eastern District of Lou...   \n",
      "4                                            CyberCoders   \n",
      "...                                                  ...   \n",
      "30079              Platinum Supplemental Insurance, Inc.   \n",
      "30080              Platinum Supplemental Insurance, Inc.   \n",
      "30081                     Professional Diversity Network   \n",
      "30082              Platinum Supplemental Insurance, Inc.   \n",
      "30083              Platinum Supplemental Insurance, Inc.   \n",
      "\n",
      "                                            Location        Date  \\\n",
      "0      Philadelphia, Pensilvanya, Birleşik Devletler  2023-06-30   \n",
      "1             New York, New York, Birleşik Devletler  2023-06-28   \n",
      "2             New York, New York, Birleşik Devletler  2023-07-01   \n",
      "3                                New Orleans Bölgesi  2023-06-26   \n",
      "4             New York, New York, Birleşik Devletler  2023-06-26   \n",
      "...                                              ...         ...   \n",
      "30079        Superior, Wisconsin, Birleşik Devletler  2023-07-01   \n",
      "30080     Grand Island, Nebraska, Birleşik Devletler  2023-07-01   \n",
      "30081     Arden Hills, Minnesota, Birleşik Devletler  2023-07-01   \n",
      "30082            Merriam, Kansas, Birleşik Devletler  2023-07-01   \n",
      "30083             Lenexa, Kansas, Birleşik Devletler  2023-07-01   \n",
      "\n",
      "                                                    Link  \n",
      "0      https://www.linkedin.com/jobs/view/social-cont...  \n",
      "1      https://www.linkedin.com/jobs/view/executive-a...  \n",
      "2      https://www.linkedin.com/jobs/view/%C4%B1nvest...  \n",
      "3      https://www.linkedin.com/jobs/view/probation-c...  \n",
      "4      https://www.linkedin.com/jobs/view/remote-foun...  \n",
      "...                                                  ...  \n",
      "30079  https://www.linkedin.com/jobs/view/sales-repre...  \n",
      "30080  https://www.linkedin.com/jobs/view/sales-repre...  \n",
      "30081  https://www.linkedin.com/jobs/view/alfalfa-cus...  \n",
      "30082  https://www.linkedin.com/jobs/view/sales-rep-t...  \n",
      "30083  https://www.linkedin.com/jobs/view/sales-rep-t...  \n",
      "\n",
      "[30084 rows x 5 columns]\n"
     ]
    }
   ],
   "source": [
    "tefo_jobs = pd.DataFrame(list(zip(job_title,company_name,location,date,job_link)),\n",
    "                columns = ['Role','Company','Location','Date','Link'])\n",
    "    \n",
    "tefo_jobs = tefo_jobs.drop_duplicates(subset = [\"Role\",\"Company\",\"Location\",\"Date\"]).reset_index(drop = True)\n",
    "print(tefo_jobs)"
   ]
  },
  {
   "cell_type": "code",
   "execution_count": 182,
   "id": "eac328ab",
   "metadata": {},
   "outputs": [],
   "source": [
    "tefo_jobs.to_csv('tefo_jobs.csv')"
   ]
  },
  {
   "cell_type": "code",
   "execution_count": 2,
   "id": "847f7e77",
   "metadata": {},
   "outputs": [
    {
     "ename": "NameError",
     "evalue": "name 'tefo_jobs' is not defined",
     "output_type": "error",
     "traceback": [
      "\u001b[1;31m---------------------------------------------------------------------------\u001b[0m",
      "\u001b[1;31mNameError\u001b[0m                                 Traceback (most recent call last)",
      "\u001b[1;32m~\\AppData\\Local\\Temp\\ipykernel_19748\\40552297.py\u001b[0m in \u001b[0;36m<module>\u001b[1;34m\u001b[0m\n\u001b[1;32m----> 1\u001b[1;33m \u001b[0mtefo_jobs\u001b[0m\u001b[1;33m.\u001b[0m\u001b[0mRole\u001b[0m\u001b[1;33m.\u001b[0m\u001b[0mvalue_counts\u001b[0m\u001b[1;33m\u001b[0m\u001b[1;33m\u001b[0m\u001b[0m\n\u001b[0m",
      "\u001b[1;31mNameError\u001b[0m: name 'tefo_jobs' is not defined"
     ]
    }
   ],
   "source": [
    "tefo_jobs.Role.value_counts"
   ]
  },
  {
   "cell_type": "code",
   "execution_count": 14,
   "id": "5b0007b8",
   "metadata": {},
   "outputs": [],
   "source": [
    "tefo_jobs = pd.DataFrame(list(zip(job_title,company_name,location,date,job_link)),\n",
    "                columns = ['Role','Company','Location','Date','Link'])\n",
    "    "
   ]
  },
  {
   "cell_type": "code",
   "execution_count": 4,
   "id": "2a30e152",
   "metadata": {},
   "outputs": [],
   "source": [
    "tefo = pd.read_csv(\"tefo_jobs.csv\")"
   ]
  },
  {
   "cell_type": "code",
   "execution_count": null,
   "id": "716c5c97",
   "metadata": {},
   "outputs": [],
   "source": []
  }
 ],
 "metadata": {
  "kernelspec": {
   "display_name": "Python 3 (ipykernel)",
   "language": "python",
   "name": "python3"
  },
  "language_info": {
   "codemirror_mode": {
    "name": "ipython",
    "version": 3
   },
   "file_extension": ".py",
   "mimetype": "text/x-python",
   "name": "python",
   "nbconvert_exporter": "python",
   "pygments_lexer": "ipython3",
   "version": "3.9.13"
  }
 },
 "nbformat": 4,
 "nbformat_minor": 5
}
